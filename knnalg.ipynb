{
 "cells": [
  {
   "cell_type": "code",
   "execution_count": 1,
   "id": "08c4449b-c66f-4ae9-a182-1b6bb5657598",
   "metadata": {},
   "outputs": [],
   "source": [
    "import pandas as pd\n",
    "import numpy as np\n",
    "import unittest\n",
    "import math"
   ]
  },
  {
   "cell_type": "markdown",
   "id": "2641aee0-94d8-47fb-8387-4e130e2030f2",
   "metadata": {},
   "source": [
    "# **Homemade k-nearest neighbors Algorithm**"
   ]
  },
  {
   "cell_type": "markdown",
   "id": "d92eb3c8-2d63-432b-a61a-ac050021d4d7",
   "metadata": {},
   "source": [
    "## *Elias Khan*"
   ]
  },
  {
   "cell_type": "markdown",
   "id": "12f7cf77-5d18-4231-a389-e59b227b68cc",
   "metadata": {},
   "source": [
    "In my CPSC 330 class for my Data Science minor at UBC, we often go over different data science algorithms used for prediction. I started to wonder how complicated it would be to write an algorithm myself. When we got to the topic of the k-nearest neighbors algorithm, I decided it would be a good chance to try it out. \n",
    "\n",
    "I thought I’d write a simplified version of the algorithm to classify data using just two features, since higher dimensions seemed more complicated. I also decided to predict a binary variable and only used odd numbers for \\(k\\) to avoid dealing with ties between categories."
   ]
  },
  {
   "cell_type": "markdown",
   "id": "e8b26dd4-3d24-467b-ad83-a5280f6d76d0",
   "metadata": {},
   "source": [
    "&nbsp;"
   ]
  },
  {
   "cell_type": "markdown",
   "id": "bbbf7edf-3b4c-48ac-8ca5-8389ba59989e",
   "metadata": {},
   "source": [
    "The first thing I did was load a toy dataset from my CPSC 330 class to find variables that would be easy to make predictions with. I ended up choosing the feature variables `lab3` and `quiz1`, as they seemed like the best fit. When looking at the figure below, it looked like there was a pattern where some areas had more of certain types of data, but still enough variety to keep it interesting."
   ]
  },
  {
   "cell_type": "code",
   "execution_count": 2,
   "id": "7d2dc9e0-5a86-4ddb-95f1-c1a9ebb37f24",
   "metadata": {},
   "outputs": [
    {
     "data": {
      "text/html": [
       "<div>\n",
       "<style scoped>\n",
       "    .dataframe tbody tr th:only-of-type {\n",
       "        vertical-align: middle;\n",
       "    }\n",
       "\n",
       "    .dataframe tbody tr th {\n",
       "        vertical-align: top;\n",
       "    }\n",
       "\n",
       "    .dataframe thead th {\n",
       "        text-align: right;\n",
       "    }\n",
       "</style>\n",
       "<table border=\"1\" class=\"dataframe\">\n",
       "  <thead>\n",
       "    <tr style=\"text-align: right;\">\n",
       "      <th></th>\n",
       "      <th>ml_experience</th>\n",
       "      <th>class_attendance</th>\n",
       "      <th>lab1</th>\n",
       "      <th>lab2</th>\n",
       "      <th>lab3</th>\n",
       "      <th>lab4</th>\n",
       "      <th>quiz1</th>\n",
       "      <th>quiz2</th>\n",
       "    </tr>\n",
       "  </thead>\n",
       "  <tbody>\n",
       "    <tr>\n",
       "      <th>0</th>\n",
       "      <td>1</td>\n",
       "      <td>1</td>\n",
       "      <td>92</td>\n",
       "      <td>93</td>\n",
       "      <td>84</td>\n",
       "      <td>91</td>\n",
       "      <td>92</td>\n",
       "      <td>A+</td>\n",
       "    </tr>\n",
       "    <tr>\n",
       "      <th>1</th>\n",
       "      <td>1</td>\n",
       "      <td>0</td>\n",
       "      <td>94</td>\n",
       "      <td>90</td>\n",
       "      <td>80</td>\n",
       "      <td>83</td>\n",
       "      <td>91</td>\n",
       "      <td>not A+</td>\n",
       "    </tr>\n",
       "    <tr>\n",
       "      <th>2</th>\n",
       "      <td>0</td>\n",
       "      <td>0</td>\n",
       "      <td>78</td>\n",
       "      <td>85</td>\n",
       "      <td>83</td>\n",
       "      <td>80</td>\n",
       "      <td>80</td>\n",
       "      <td>not A+</td>\n",
       "    </tr>\n",
       "    <tr>\n",
       "      <th>3</th>\n",
       "      <td>0</td>\n",
       "      <td>1</td>\n",
       "      <td>91</td>\n",
       "      <td>94</td>\n",
       "      <td>92</td>\n",
       "      <td>91</td>\n",
       "      <td>89</td>\n",
       "      <td>A+</td>\n",
       "    </tr>\n",
       "    <tr>\n",
       "      <th>4</th>\n",
       "      <td>0</td>\n",
       "      <td>1</td>\n",
       "      <td>77</td>\n",
       "      <td>83</td>\n",
       "      <td>90</td>\n",
       "      <td>92</td>\n",
       "      <td>85</td>\n",
       "      <td>A+</td>\n",
       "    </tr>\n",
       "  </tbody>\n",
       "</table>\n",
       "</div>"
      ],
      "text/plain": [
       "   ml_experience  class_attendance  lab1  lab2  lab3  lab4  quiz1   quiz2\n",
       "0              1                 1    92    93    84    91     92      A+\n",
       "1              1                 0    94    90    80    83     91  not A+\n",
       "2              0                 0    78    85    83    80     80  not A+\n",
       "3              0                 1    91    94    92    91     89      A+\n",
       "4              0                 1    77    83    90    92     85      A+"
      ]
     },
     "execution_count": 2,
     "metadata": {},
     "output_type": "execute_result"
    }
   ],
   "source": [
    "toy_df= pd.read_csv(\"/Users/elias/silly little idea/quiz2-grade-toy-classification.csv\")\n",
    "toy_df.head()"
   ]
  },
  {
   "cell_type": "code",
   "execution_count": 3,
   "id": "967e0b5d-f1b1-4b26-a63c-f632137d4706",
   "metadata": {},
   "outputs": [
    {
     "data": {
      "image/png": "[encoded data removed]",
      "text/plain": [
       "<Figure size 640x480 with 1 Axes>"
      ]
     },
     "metadata": {},
     "output_type": "display_data"
    }
   ],
   "source": [
    "import matplotlib.pyplot as plt\n",
    "plt.scatter(toy_df[toy_df['quiz2'] == \"A+\"]['lab3'], toy_df[toy_df['quiz2'] == \"A+\"]['quiz1'], \n",
    "            marker='^', label='A+', color='blue')\n",
    "\n",
    "plt.scatter(toy_df[toy_df['quiz2'] != \"A+\"]['lab3'], toy_df[toy_df['quiz2'] != \"A+\"]['quiz1'], \n",
    "            marker='s', label='Not A+', color='green')\n",
    "\n",
    "plt.xlabel('Lab 3')\n",
    "plt.ylabel('Quiz 1')\n",
    "plt.title('Lab 3 vs Quiz 1 with different markers for Quiz 2 grades')\n",
    "\n",
    "plt.legend()\n",
    "\n",
    "plt.show()"
   ]
  },
  {
   "cell_type": "markdown",
   "id": "56ba2668-98a0-4c1e-9953-b17f4a6db38e",
   "metadata": {},
   "source": [
    "After loading the data and finding some good values to test the function on, I started creating the necessary functions for the algorithm.\n",
    "\n",
    "The first function I wrote calculates the Euclidean distance between two points in the form `(x, y)`. This function is essential to the algorithm because we need to calculate the distances from the point we're trying to predict to all the other points in the dataset."
   ]
  },
  {
   "cell_type": "code",
   "execution_count": 4,
   "id": "0837738b-16ad-4803-bb29-5dd2c1297128",
   "metadata": {},
   "outputs": [
    {
     "name": "stdout",
     "output_type": "stream",
     "text": [
      "All test cases passed!\n"
     ]
    }
   ],
   "source": [
    "def euclidean_distance(point1, point2):\n",
    "    return math.sqrt((point1[0] - point2[0]) ** 2 + (point1[1] - point2[1]) ** 2)\n",
    "\n",
    "# Test case 1: Distance between the same point should be 0\n",
    "assert euclidean_distance((0, 0), (0, 0)) == 0, \"Test case 1 failed\"\n",
    "\n",
    "# Test case 2: Distance between (0, 0) and (3, 4) should be 5 (3-4-5 triangle)\n",
    "assert euclidean_distance((0, 0), (3, 4)) == 5, \"Test case 2 failed\"\n",
    "\n",
    "# Test case 3: Distance between (-1, -1) and (-4, -5) should be 5\n",
    "assert euclidean_distance((-1, -1), (-4, -5)) == 5, \"Test case 3 failed\"\n",
    "\n",
    "# Test case 4: Distance between floating point numbers (1.5, 2.5) and (3.5, 6.5)\n",
    "assert math.isclose(euclidean_distance((1.5, 2.5), (3.5, 6.5)), 4.4721, rel_tol=1e-4), \"Test case 4 failed\"\n",
    "\n",
    "# Test case 5: Distance between (1, -2) and (-2, 2) should be 5\n",
    "assert math.isclose(euclidean_distance((1, -2), (-2, 2)), 5, rel_tol=1e-4), \"Test case 5 failed\"\n",
    "\n",
    "print(\"All test cases passed!\")"
   ]
  },
  {
   "cell_type": "markdown",
   "id": "155fbad0-a608-484e-baa4-45958a68dcaa",
   "metadata": {},
   "source": [
    "*NOTE:* I utilized chatGPT to test the functions that I wrote to insure that I didn't miss any cases that would make my code not function further down the line."
   ]
  },
  {
   "cell_type": "markdown",
   "id": "0970c6cf-d295-40f8-8284-1c394f5be18a",
   "metadata": {},
   "source": [
    "&nbsp;"
   ]
  },
  {
   "cell_type": "markdown",
   "id": "a62fbd6f-200c-4ada-b276-d37651d25f4b",
   "metadata": {},
   "source": [
    "The next function I created is a logical extension of the first. The function `find_distances_df(point, df, x_col, y_col)` lists all the distances from the given point to every point in a chosen dataset, while preserving their index. This is important because we'll need to know the class of the closest neighbors later on."
   ]
  },
  {
   "cell_type": "code",
   "execution_count": 5,
   "id": "6291fb7d-3b52-4a27-933e-c1fc4066b546",
   "metadata": {},
   "outputs": [
    {
     "name": "stdout",
     "output_type": "stream",
     "text": [
      "All test cases passed!\n"
     ]
    }
   ],
   "source": [
    "def find_distances_df(point, df, x_col, y_col):\n",
    "    distances = []\n",
    "    for index, row in df.iterrows():\n",
    "        data_point = (row[x_col], row[y_col])\n",
    "        distance = euclidean_distance(point, data_point)\n",
    "        distances.append((index, distance))\n",
    "    return distances\n",
    "\n",
    "data = {\n",
    "    'latitude': [3, 1, -3, 1.5],\n",
    "    'longitude': [4, 1, -4, 2.5]\n",
    "}\n",
    "df = pd.DataFrame(data)\n",
    "\n",
    "# Test case 1: Distance from (0, 0) to each point in the DataFrame using 'latitude' and 'longitude'\n",
    "result = find_distances_df((0, 0), df, 'latitude', 'longitude')\n",
    "expected_result = [(0, 5.0), (1, math.sqrt(2)), (2, 5.0), (3, math.sqrt(1.5**2 + 2.5**2))]\n",
    "assert result == expected_result, f\"Test case 1 failed: {result}\"\n",
    "\n",
    "# Test case 2: Distance from (1, 1) to each point in the DataFrame using 'latitude' and 'longitude'\n",
    "result = find_distances_df((1, 1), df, 'latitude', 'longitude')\n",
    "expected_result = [(0, math.sqrt((3 - 1) ** 2 + (4 - 1) ** 2)),\n",
    "                   (1, 0.0),\n",
    "                   (2, math.sqrt((1 - (-3)) ** 2 + (1 - (-4)) ** 2)),\n",
    "                   (3, math.sqrt((1.5 - 1) ** 2 + (2.5 - 1) ** 2))]\n",
    "assert result == expected_result, f\"Test case 2 failed: {result}\"\n",
    "\n",
    "# Test case 3: Distance from (3, 4) to the points in the DataFrame using 'latitude' and 'longitude'\n",
    "result = find_distances_df((3, 4), df, 'latitude', 'longitude')\n",
    "expected_result = [(0, 0.0), (1, math.sqrt((3 - 1) ** 2 + (4 - 1) ** 2)),\n",
    "                   (2, math.sqrt((3 - (-3)) ** 2 + (4 - (-4)) ** 2)),\n",
    "                   (3, math.sqrt((3 - 1.5) ** 2 + (4 - 2.5) ** 2))]\n",
    "assert result == expected_result, f\"Test case 3 failed: {result}\"\n",
    "\n",
    "print(\"All test cases passed!\")"
   ]
  },
  {
   "cell_type": "markdown",
   "id": "b41d20e7-3f2d-4b8f-af0a-8906755487a1",
   "metadata": {},
   "source": [
    "The next function, `n_smallest_distances(lod, n)`, sorts the data from smallest to largest and selects the `n` smallest points to store in a new list. I had some trouble sorting the data in the `(index, distance)` format, so I consulted ChatGPT to help me sort the data, which allowed me to take the `n` smallest distances."
   ]
  },
  {
   "cell_type": "code",
   "execution_count": 6,
   "id": "e8518964-6c5b-47aa-bbdc-f853e507ced4",
   "metadata": {},
   "outputs": [
    {
     "name": "stdout",
     "output_type": "stream",
     "text": [
      "All test cases passed!\n"
     ]
    }
   ],
   "source": [
    "def n_smallest_distances(lod, n):\n",
    "    n_smallest_points = sorted(lod, key=lambda x: x[1])[:n]\n",
    "    return n_smallest_points\n",
    "\n",
    "# Test case 1: Normal case where n is smaller than the list length\n",
    "lod = [(0, 5), (1, 3), (2, 1), (3, 9), (4, 7)]\n",
    "n = 3\n",
    "result = n_smallest_distances(lod, n)\n",
    "expected_result = [(2, 1), (1, 3), (0, 5)]  # The 3 smallest distances with their indices\n",
    "assert result == expected_result, f\"Test case 1 failed: {result}\"\n",
    "\n",
    "# Test case 2: n equals the length of the list\n",
    "lod = [(0, 4), (1, 6), (2, 2), (3, 8), (4, 1)]\n",
    "n = 5\n",
    "result = n_smallest_distances(lod, n)\n",
    "expected_result = [(4, 1), (2, 2), (0, 4), (1, 6), (3, 8)]  # The sorted list by distance\n",
    "assert result == expected_result, f\"Test case 2 failed: {result}\"\n",
    "\n",
    "# Test case 3: n is larger than the list length\n",
    "lod = [(0, 7), (1, 3), (2, 9)]\n",
    "n = 5\n",
    "result = n_smallest_distances(lod, n)\n",
    "expected_result = [(1, 3), (0, 7), (2, 9)]  # The entire list sorted by distance\n",
    "assert result == expected_result, f\"Test case 3 failed: {result}\"\n",
    "\n",
    "# Test case 4: n is 0 (expecting an empty list)\n",
    "lod = [(0, 8), (1, 2), (2, 4), (3, 1)]\n",
    "n = 0\n",
    "result = n_smallest_distances(lod, n)\n",
    "expected_result = []  # No elements should be returned\n",
    "assert result == expected_result, f\"Test case 4 failed: {result}\"\n",
    "\n",
    "# Test case 5: All elements have the same distance\n",
    "lod = [(0, 5), (1, 5), (2, 5), (3, 5), (4, 5)]\n",
    "n = 3\n",
    "result = n_smallest_distances(lod, n)\n",
    "expected_result = [(0, 5), (1, 5), (2, 5)]  # The first 3 identical elements\n",
    "assert result == expected_result, f\"Test case 5 failed: {result}\"\n",
    "\n",
    "print(\"All test cases passed!\")"
   ]
  },
  {
   "cell_type": "markdown",
   "id": "d624c498-e631-405e-8199-8788cb8db020",
   "metadata": {},
   "source": [
    "The function `most_common_target(lod, df, target_col)` checks the target column in the closest neighbors and determines which target value is the most common. This helps us assign a classification in the next function."
   ]
  },
  {
   "cell_type": "code",
   "execution_count": 7,
   "id": "7c0c153a-83e6-4607-97ac-8b0db64b251e",
   "metadata": {},
   "outputs": [
    {
     "name": "stdout",
     "output_type": "stream",
     "text": [
      "All test cases passed!\n"
     ]
    }
   ],
   "source": [
    "from collections import Counter\n",
    "\n",
    "def most_common_target(lod, df, target_col):\n",
    "    target_values = []\n",
    "    for index, _ in lod:\n",
    "        target_values.append(df.iloc[index][target_col])\n",
    "    most_common = Counter(target_values).most_common(1)[0][0]\n",
    "    return most_common\n",
    "\n",
    "# Sample DataFrame for testing\n",
    "data = {\n",
    "    'latitude': [3, 1, -3, 1.5, 5],\n",
    "    'longitude': [4, 1, -4, 2.5, 6],\n",
    "    'target': ['A', 'B', 'A', 'A', 'C']  # Target column to find the most common value\n",
    "}\n",
    "df = pd.DataFrame(data)\n",
    "\n",
    "# Test case 1: Clear majority in target column\n",
    "lod = [(0, 5), (1, 3), (2, 1)]  # Indices correspond to rows in df\n",
    "result = most_common_target(lod, df, 'target')\n",
    "expected_result = 'A'  # 'A' appears twice in the corresponding rows\n",
    "assert result == expected_result, f\"Test case 1 failed: {result}\"\n",
    "\n",
    "# Test case 2: All target values are the same\n",
    "lod = [(0, 5), (2, 1), (3, 4)]  # Indices correspond to rows in df\n",
    "result = most_common_target(lod, df, 'target')\n",
    "expected_result = 'A'  # All rows have 'A' as the target\n",
    "assert result == expected_result, f\"Test case 2 failed: {result}\"\n",
    "\n",
    "# Test case 3: No clear majority, tied target values\n",
    "lod = [(0, 5), (1, 3), (4, 2)]  # Indices correspond to rows in df\n",
    "result = most_common_target(lod, df, 'target')\n",
    "expected_result = 'A'  # 'A' and 'C' appear once, 'A' appears first (alphabetical tie-breaker not explicit)\n",
    "assert result == expected_result, f\"Test case 3 failed: {result}\"\n",
    "\n",
    "# Test case 4: Only one data point in the list\n",
    "lod = [(4, 2)]  # Only one point\n",
    "result = most_common_target(lod, df, 'target')\n",
    "expected_result = 'C'  # Only 'C' is present\n",
    "assert result == expected_result, f\"Test case 4 failed: {result}\"\n",
    "\n",
    "# Test case 5: Empty list of distances\n",
    "lod = []  # Empty list\n",
    "try:\n",
    "    result = most_common_target(lod, df, 'target')\n",
    "    assert False, \"Test case 5 failed: should have raised an exception\"\n",
    "except IndexError:\n",
    "    pass  # Expected to raise an IndexError as there are no elements in the list\n",
    "\n",
    "print(\"All test cases passed!\")\n"
   ]
  },
  {
   "cell_type": "markdown",
   "id": "876a9d22-5cdf-4425-ac2e-69d9e965268b",
   "metadata": {},
   "source": [
    "The final function, `classify_data_point(df, target, point, x_col, y_col, n)`, combines all the helper functions we've created to classify a given point."
   ]
  },
  {
   "cell_type": "code",
   "execution_count": 8,
   "id": "49e42c96-fa39-4bdd-9afb-26da29bbe17d",
   "metadata": {},
   "outputs": [
    {
     "name": "stdout",
     "output_type": "stream",
     "text": [
      "All test cases passed!\n"
     ]
    }
   ],
   "source": [
    "def classify_data_point(df, target, point, x_col, y_col, n):\n",
    "    lod = find_distances_df(point, df, x_col, y_col)\n",
    "    neighbors = n_smallest_distances(lod, n)\n",
    "    most_common = most_common_target(neighbors, df, target)\n",
    "    return most_common\n",
    "    \n",
    "# Test case 1: Normal case with 3 neighbors, expecting 'A'\n",
    "point = (0, 0)\n",
    "n = 3\n",
    "result = classify_data_point(df, 'target', point, 'latitude', 'longitude', n)\n",
    "expected_result = 'A'  # 'A' appears most frequently among the 3 closest points\n",
    "assert result == expected_result, f\"Test case 1 failed: {result}\"\n",
    "\n",
    "# Test case 2: Only 1 neighbor, expecting that neighbor's target value\n",
    "n = 1\n",
    "result = classify_data_point(df, 'target', point, 'latitude', 'longitude', n)\n",
    "expected_result = 'B'  # The closest point to (0,0) is at index 1, which has target 'B'\n",
    "assert result == expected_result, f\"Test case 2 failed: {result}\"\n",
    "\n",
    "# Test case 3: n is larger than the number of points, expecting most common target in all points\n",
    "n = 10  # Larger than the total number of points in df\n",
    "result = classify_data_point(df, 'target', point, 'latitude', 'longitude', n)\n",
    "expected_result = 'A'  # 'A' appears most frequently in the entire dataset\n",
    "assert result == expected_result, f\"Test case 3 failed: {result}\"\n",
    "\n",
    "# Test case 4: No neighbors (n = 0), should raise an IndexError\n",
    "n = 0\n",
    "try:\n",
    "    result = classify_data_point(df, 'target', point, 'latitude', 'longitude', n)\n",
    "    assert False, \"Test case 4 failed: should have raised an exception\"\n",
    "except IndexError:\n",
    "    pass  # Expected to raise IndexError due to empty list of neighbors\n",
    "\n",
    "# Test case 5: Tied target values, expecting 'A' (based on Counter's tie-breaking)\n",
    "df_tied = pd.DataFrame({\n",
    "    'latitude': [0, 1, 2],\n",
    "    'longitude': [0, 1, 2],\n",
    "    'target': ['A', 'B', 'A']  # 'A' and 'B' are equally common for some cases\n",
    "})\n",
    "point = (0.5, 0.5)\n",
    "n = 2\n",
    "result = classify_data_point(df_tied, 'target', point, 'latitude', 'longitude', n)\n",
    "expected_result = 'A'  # Tied counts, 'A' should be returned because it appears first\n",
    "assert result == expected_result, f\"Test case 5 failed: {result}\"\n",
    "\n",
    "print(\"All test cases passed!\")    "
   ]
  },
  {
   "cell_type": "markdown",
   "id": "9fc6b330-6eda-4db0-ad75-f94c2cae30f8",
   "metadata": {},
   "source": [
    "For a quick test of the algorithm, I dropped the 5th object from the toy dataset to see if it would classify it correctly when given as a new data point. It was a success."
   ]
  },
  {
   "cell_type": "code",
   "execution_count": 9,
   "id": "b89339d1-937b-4863-ba25-d50c82c191b7",
   "metadata": {},
   "outputs": [
    {
     "data": {
      "text/html": [
       "<div>\n",
       "<style scoped>\n",
       "    .dataframe tbody tr th:only-of-type {\n",
       "        vertical-align: middle;\n",
       "    }\n",
       "\n",
       "    .dataframe tbody tr th {\n",
       "        vertical-align: top;\n",
       "    }\n",
       "\n",
       "    .dataframe thead th {\n",
       "        text-align: right;\n",
       "    }\n",
       "</style>\n",
       "<table border=\"1\" class=\"dataframe\">\n",
       "  <thead>\n",
       "    <tr style=\"text-align: right;\">\n",
       "      <th></th>\n",
       "      <th>ml_experience</th>\n",
       "      <th>class_attendance</th>\n",
       "      <th>lab1</th>\n",
       "      <th>lab2</th>\n",
       "      <th>lab3</th>\n",
       "      <th>lab4</th>\n",
       "      <th>quiz1</th>\n",
       "      <th>quiz2</th>\n",
       "    </tr>\n",
       "  </thead>\n",
       "  <tbody>\n",
       "    <tr>\n",
       "      <th>4</th>\n",
       "      <td>0</td>\n",
       "      <td>1</td>\n",
       "      <td>77</td>\n",
       "      <td>83</td>\n",
       "      <td>90</td>\n",
       "      <td>92</td>\n",
       "      <td>85</td>\n",
       "      <td>A+</td>\n",
       "    </tr>\n",
       "  </tbody>\n",
       "</table>\n",
       "</div>"
      ],
      "text/plain": [
       "   ml_experience  class_attendance  lab1  lab2  lab3  lab4  quiz1 quiz2\n",
       "4              0                 1    77    83    90    92     85    A+"
      ]
     },
     "execution_count": 9,
     "metadata": {},
     "output_type": "execute_result"
    }
   ],
   "source": [
    "# Drop the 5th row \n",
    "df_without_5th = toy_df.drop(index=4)\n",
    "df_without_5th = df_without_5th.reset_index(drop=True)\n",
    "\n",
    "# Create a new DataFrame that contains only the 5th row\n",
    "df_5th_row = toy_df.iloc[[4]]\n",
    "df_5th_row"
   ]
  },
  {
   "cell_type": "code",
   "execution_count": 10,
   "id": "031ef33e-faf2-40a4-acc0-a3127355c7b1",
   "metadata": {
    "scrolled": true
   },
   "outputs": [
    {
     "data": {
      "text/plain": [
       "'A+'"
      ]
     },
     "execution_count": 10,
     "metadata": {},
     "output_type": "execute_result"
    }
   ],
   "source": [
    "#lab3=x and quiz1=y in this case\n",
    "point = (df_5th_row['lab3'].values[0],df_5th_row['quiz1'].values[0])\n",
    "classification = classify_data_point(df_without_5th, \"quiz2\", point, \"lab3\", \"quiz1\", 3) #we are choosing the 3 nearest neighbors to classify it\n",
    "classification"
   ]
  },
  {
   "cell_type": "markdown",
   "id": "64cdf1ac-9d04-4fe0-9c76-57b87a2ab380",
   "metadata": {},
   "source": [
    "Though the function is rough, lacks optimization, and probably isn't very accurate in the long term, my goal was to create something simple to help me understand the complexity behind larger algorithms. In that sense, I believe this project was a success."
   ]
  }
 ],
 "metadata": {
  "kernelspec": {
   "display_name": "Python [conda env:cpsc330]",
   "language": "python",
   "name": "conda-env-cpsc330-py"
  },
  "language_info": {
   "codemirror_mode": {
    "name": "ipython",
    "version": 3
   },
   "file_extension": ".py",
   "mimetype": "text/x-python",
   "name": "python",
   "nbconvert_exporter": "python",
   "pygments_lexer": "ipython3",
   "version": "3.12.0"
  }
 },
 "nbformat": 4,
 "nbformat_minor": 5
}
